{
 "metadata": {
  "language_info": {
   "codemirror_mode": {
    "name": "ipython",
    "version": 3
   },
   "file_extension": ".py",
   "mimetype": "text/x-python",
   "name": "python",
   "nbconvert_exporter": "python",
   "pygments_lexer": "ipython3",
   "version": "2.7.18-final"
  },
  "orig_nbformat": 2,
  "kernelspec": {
   "name": "python_defaultSpec_1595834731067",
   "display_name": "Python 2.7.18 64-bit ('python27': conda)"
  }
 },
 "nbformat": 4,
 "nbformat_minor": 2,
 "cells": [
  {
   "cell_type": "code",
   "execution_count": null,
   "metadata": {
    "tags": []
   },
   "outputs": [],
   "source": [
    "import sys, os"
   ]
  },
  {
   "cell_type": "code",
   "execution_count": 1,
   "metadata": {},
   "outputs": [
    {
     "output_type": "error",
     "ename": "ModuleNotFoundError",
     "evalue": "No module named 'SimpleITK'",
     "traceback": [
      "\u001b[1;31m---------------------------------------------------------------------------\u001b[0m",
      "\u001b[1;31mModuleNotFoundError\u001b[0m                       Traceback (most recent call last)",
      "\u001b[1;32m<ipython-input-1-5ecac417f93c>\u001b[0m in \u001b[0;36m<module>\u001b[1;34m\u001b[0m\n\u001b[0;32m      1\u001b[0m \u001b[1;32mimport\u001b[0m \u001b[0mcv2\u001b[0m\u001b[1;33m\u001b[0m\u001b[1;33m\u001b[0m\u001b[0m\n\u001b[1;32m----> 2\u001b[1;33m \u001b[1;32mimport\u001b[0m \u001b[0mSimpleITK\u001b[0m \u001b[1;32mas\u001b[0m \u001b[0msitk\u001b[0m\u001b[1;33m\u001b[0m\u001b[1;33m\u001b[0m\u001b[0m\n\u001b[0m\u001b[0;32m      3\u001b[0m \u001b[1;32mimport\u001b[0m \u001b[0mmatplotlib\u001b[0m\u001b[1;33m.\u001b[0m\u001b[0mpyplot\u001b[0m \u001b[1;32mas\u001b[0m \u001b[0mplt\u001b[0m\u001b[1;33m\u001b[0m\u001b[1;33m\u001b[0m\u001b[0m\n\u001b[0;32m      4\u001b[0m \u001b[1;32mimport\u001b[0m \u001b[0mnumpy\u001b[0m \u001b[1;32mas\u001b[0m \u001b[0mnp\u001b[0m\u001b[1;33m\u001b[0m\u001b[1;33m\u001b[0m\u001b[0m\n\u001b[0;32m      5\u001b[0m \u001b[0mpath\u001b[0m \u001b[1;33m=\u001b[0m \u001b[1;34m\"D:\\Computer Vision\\Datasets\\prostate_MR\\promise12_orig\\Training Data\\Case02.mhd\"\u001b[0m\u001b[1;33m\u001b[0m\u001b[1;33m\u001b[0m\u001b[0m\n",
      "\u001b[1;31mModuleNotFoundError\u001b[0m: No module named 'SimpleITK'"
     ]
    }
   ],
   "source": [
    "import cv2\n",
    "import SimpleITK as sitk\n",
    "import matplotlib.pyplot as plt\n",
    "import numpy as np\n",
    "path = \"D:\\Computer Vision\\Datasets\\prostate_MR\\promise12_orig\\Training Data\\Case02.mhd\"\n",
    "\n",
    "image =sitk.ReadImage(path)\n",
    "image = sitk.GetArrayFromImage(image)\n",
    "#image = np.squeeze(image[slice, ...]) # if the image is 3d, the slice is integer\n",
    "plt.imshow(image[23],cmap='gray')\n",
    "plt.axis('off')\n",
    "plt.show()\n",
    "cv2.imwrite('1.png',image)"
   ]
  },
  {
   "cell_type": "code",
   "execution_count": 22,
   "metadata": {
    "tags": [
     "outputPrepend"
    ]
   },
   "outputs": [
    {
     "output_type": "stream",
     "name": "stdout",
     "text": "6.png is dark!\ndark_sum:260419\npiexs_sum:262144\ndark_prop=dark_sum/piexs_sum:0.9934196472167969\nD:\\Computer Vision\\Datasets\\prostate_MR\\DL_Image\\DL_Image0001_0037.png is dark!\ndark_sum:261861\npiexs_sum:262144\ndark_prop=dark_sum/piexs_sum:0.9989204406738281\nD:\\Computer Vision\\Datasets\\prostate_MR\\DL_Image\\DL_Image0001_0038.png is dark!\ndark_sum:260277\npiexs_sum:262144\ndark_prop=dark_sum/piexs_sum:0.9928779602050781\nD:\\Computer Vision\\Datasets\\prostate_MR\\DL_Image\\DL_Image0001_0039.png is dark!\ndark_sum:257305\npiexs_sum:262144\ndark_prop=dark_sum/piexs_sum:0.9815406799316406\nD:\\Computer Vision\\Datasets\\prostate_MR\\DL_Image\\DL_Image0001_0040.png is dark!\ndark_sum:259266\npiexs_sum:262144\ndark_prop=dark_sum/piexs_sum:0.9890213012695312\nD:\\Computer Vision\\Datasets\\prostate_MR\\DL_Image\\DL_Image0001_0041.png is dark!\ndark_sum:258626\npiexs_sum:262144\ndark_prop=dark_sum/piexs_sum:0.9865798950195312\nD:\\Computer Vision\\Datasets\\prostate_MR\\DL_Image\\DL_Image0001_0042.png is dark!\ndark_sum:253386\npiexs_sum:262144\ndark_prop=dark_sum/piexs_sum:0.9665908813476562\nD:\\Computer Vision\\Datasets\\prostate_MR\\DL_Image\\DL_Image0001_0043.png is dark!\ndark_sum:257598\npiexs_sum:262144\ndark_prop=dark_sum/piexs_sum:0.9826583862304688\nD:\\Computer Vision\\Datasets\\prostate_MR\\DL_Image\\DL_Image0001_0044.png is dark!\ndark_sum:258964\npiexs_sum:262144\ndark_prop=dark_sum/piexs_sum:0.9878692626953125\nD:\\Computer Vision\\Datasets\\prostate_MR\\DL_Image\\DL_Image0001_0045.png is dark!\ndark_sum:224597\npiexs_sum:262144\ndark_prop=dark_sum/piexs_sum:0.8567695617675781\nD:\\Computer Vision\\Datasets\\prostate_MR\\DL_Image\\DL_Image0001_0046.png is dark!\ndark_sum:155366\npiexs_sum:262144\ndark_prop=dark_sum/piexs_sum:0.5926742553710938\nD:\\Computer Vision\\Datasets\\prostate_MR\\DL_Image\\DL_Image0001_0047.png is bright!\ndark_sum:221128\npiexs_sum:262144\ndark_prop=dark_sum/piexs_sum:0.843536376953125\nD:\\Computer Vision\\Datasets\\prostate_MR\\DL_Image\\DL_Image0002_0001.png is dark!\ndark_sum:220988\npiexs_sum:262144\ndark_prop=dark_sum/piexs_sum:0.8430023193359375\nD:\\Computer Vision\\Datasets\\prostate_MR\\DL_Image\\DL_Image0002_0002.png is dark!\ndark_sum:216872\npiexs_sum:262144\ndark_prop=dark_sum/piexs_sum:0.827301025390625\nD:\\Computer Vision\\Datasets\\prostate_MR\\DL_Image\\DL_Image0002_0003.png is dark!\ndark_sum:214593\npiexs_sum:262144\ndark_prop=dark_sum/piexs_sum:0.8186073303222656\nD:\\Computer Vision\\Datasets\\prostate_MR\\DL_Image\\DL_Image0002_0004.png is dark!\ndark_sum:212270\npiexs_sum:262144\ndark_prop=dark_sum/piexs_sum:0.8097457885742188\nD:\\Computer Vision\\Datasets\\prostate_MR\\DL_Image\\DL_Image0002_0005.png is dark!\ndark_sum:218584\npiexs_sum:262144\ndark_prop=dark_sum/piexs_sum:0.833831787109375\nD:\\Computer Vision\\Datasets\\prostate_MR\\DL_Image\\DL_Image0002_0006.png is dark!\ndark_sum:209400\npiexs_sum:262144\ndark_prop=dark_sum/piexs_sum:0.798797607421875\nD:\\Computer Vision\\Datasets\\prostate_MR\\DL_Image\\DL_Image0002_0007.png is bright!\ndark_sum:205685\npiexs_sum:262144\ndark_prop=dark_sum/piexs_sum:0.7846260070800781\nD:\\Computer Vision\\Datasets\\prostate_MR\\DL_Image\\DL_Image0002_0008.png is bright!\ndark_sum:192729\npiexs_sum:262144\ndark_prop=dark_sum/piexs_sum:0.7352027893066406\nD:\\Computer Vision\\Datasets\\prostate_MR\\DL_Image\\DL_Image0002_0009.png is bright!\ndark_sum:180690\npiexs_sum:262144\ndark_prop=dark_sum/piexs_sum:0.6892776489257812\nD:\\Computer Vision\\Datasets\\prostate_MR\\DL_Image\\DL_Image0002_0010.png is bright!\ndark_sum:181539\npiexs_sum:262144\ndark_prop=dark_sum/piexs_sum:0.6925163269042969\nD:\\Computer Vision\\Datasets\\prostate_MR\\DL_Image\\DL_Image0002_0011.png is bright!\ndark_sum:178331\npiexs_sum:262144\ndark_prop=dark_sum/piexs_sum:0.6802787780761719\nD:\\Computer Vision\\Datasets\\prostate_MR\\DL_Image\\DL_Image0002_0012.png is bright!\ndark_sum:183441\npiexs_sum:262144\ndark_prop=dark_sum/piexs_sum:0.6997718811035156\nD:\\Computer Vision\\Datasets\\prostate_MR\\DL_Image\\DL_Image0002_0013.png is bright!\ndark_sum:170241\npiexs_sum:262144\ndark_prop=dark_sum/piexs_sum:0.6494178771972656\nD:\\Computer Vision\\Datasets\\prostate_MR\\DL_Image\\DL_Image0002_0014.png is bright!\ndark_sum:169741\npiexs_sum:262144\ndark_prop=dark_sum/piexs_sum:0.6475105285644531\nD:\\Computer Vision\\Datasets\\prostate_MR\\DL_Image\\DL_Image0002_0015.png is bright!\ndark_sum:170638\npiexs_sum:262144\ndark_prop=dark_sum/piexs_sum:0.6509323120117188\nD:\\Computer Vision\\Datasets\\prostate_MR\\DL_Image\\DL_Image0002_0016.png is bright!\ndark_sum:168989\npiexs_sum:262144\ndark_prop=dark_sum/piexs_sum:0.6446418762207031\nD:\\Computer Vision\\Datasets\\prostate_MR\\DL_Image\\DL_Image0002_0017.png is bright!\ndark_sum:162125\npiexs_sum:262144\ndark_prop=dark_sum/piexs_sum:0.6184577941894531\nD:\\Computer Vision\\Datasets\\prostate_MR\\DL_Image\\DL_Image0002_0018.png is bright!\ndark_sum:154505\npiexs_sum:262144\ndark_prop=dark_sum/piexs_sum:0.5893898010253906\nD:\\Computer Vision\\Datasets\\prostate_MR\\DL_Image\\DL_Image0002_0019.png is bright!\ndark_sum:157326\npiexs_sum:262144\ndark_prop=dark_sum/piexs_sum:0.6001510620117188\nD:\\Computer Vision\\Datasets\\prostate_MR\\DL_Image\\DL_Image0002_0020.png is bright!\ndark_sum:152365\npiexs_sum:262144\ndark_prop=dark_sum/piexs_sum:0.5812263488769531\nD:\\Computer Vision\\Datasets\\prostate_MR\\DL_Image\\DL_Image0002_0021.png is bright!\ndark_sum:157928\npiexs_sum:262144\ndark_prop=dark_sum/piexs_sum:0.602447509765625\nD:\\Computer Vision\\Datasets\\prostate_MR\\DL_Image\\DL_Image0002_0022.png is bright!\ndark_sum:148790\npiexs_sum:262144\ndark_prop=dark_sum/piexs_sum:0.5675888061523438\nD:\\Computer Vision\\Datasets\\prostate_MR\\DL_Image\\DL_Image0002_0023.png is bright!\ndark_sum:172819\npiexs_sum:262144\ndark_prop=dark_sum/piexs_sum:0.6592521667480469\nD:\\Computer Vision\\Datasets\\prostate_MR\\DL_Image\\DL_Image0002_0024.png is bright!\ndark_sum:161288\npiexs_sum:262144\ndark_prop=dark_sum/piexs_sum:0.615264892578125\nD:\\Computer Vision\\Datasets\\prostate_MR\\DL_Image\\DL_Image0002_0025.png is bright!\ndark_sum:150256\npiexs_sum:262144\ndark_prop=dark_sum/piexs_sum:0.57318115234375\nD:\\Computer Vision\\Datasets\\prostate_MR\\DL_Image\\DL_Image0002_0026.png is bright!\ndark_sum:169566\npiexs_sum:262144\ndark_prop=dark_sum/piexs_sum:0.6468429565429688\nD:\\Computer Vision\\Datasets\\prostate_MR\\DL_Image\\DL_Image0002_0027.png is bright!\ndark_sum:133012\npiexs_sum:262144\ndark_prop=dark_sum/piexs_sum:0.5074005126953125\nD:\\Computer Vision\\Datasets\\prostate_MR\\DL_Image\\DL_Image0002_0028.png is bright!\ndark_sum:180896\npiexs_sum:262144\ndark_prop=dark_sum/piexs_sum:0.6900634765625\nD:\\Computer Vision\\Datasets\\prostate_MR\\DL_Image\\DL_Image0002_0029.png is bright!\ndark_sum:261344\npiexs_sum:262144\ndark_prop=dark_sum/piexs_sum:0.9969482421875\nD:\\Computer Vision\\Datasets\\prostate_MR\\DL_Image\\DL_Image0003_0001.png is dark!\ndark_sum:260599\npiexs_sum:262144\ndark_prop=dark_sum/piexs_sum:0.9941062927246094\nD:\\Computer Vision\\Datasets\\prostate_MR\\DL_Image\\DL_Image0003_0002.png is dark!\ndark_sum:228190\npiexs_sum:262144\ndark_prop=dark_sum/piexs_sum:0.8704757690429688\nD:\\Computer Vision\\Datasets\\prostate_MR\\DL_Image\\DL_Image0003_0003.png is dark!\ndark_sum:219252\npiexs_sum:262144\ndark_prop=dark_sum/piexs_sum:0.8363800048828125\nD:\\Computer Vision\\Datasets\\prostate_MR\\DL_Image\\DL_Image0003_0004.png is dark!\ndark_sum:224176\npiexs_sum:262144\ndark_prop=dark_sum/piexs_sum:0.85516357421875\nD:\\Computer Vision\\Datasets\\prostate_MR\\DL_Image\\DL_Image0003_0005.png is dark!\ndark_sum:233180\npiexs_sum:262144\ndark_prop=dark_sum/piexs_sum:0.8895111083984375\nD:\\Computer Vision\\Datasets\\prostate_MR\\DL_Image\\DL_Image0003_0006.png is dark!\ndark_sum:261052\npiexs_sum:262144\ndark_prop=dark_sum/piexs_sum:0.9958343505859375\nD:\\Computer Vision\\Datasets\\prostate_MR\\DL_Image\\DL_Image0003_0007.png is dark!\ndark_sum:261724\npiexs_sum:262144\ndark_prop=dark_sum/piexs_sum:0.9983978271484375\nD:\\Computer Vision\\Datasets\\prostate_MR\\DL_Image\\DL_Image0003_0008.png is dark!\ndark_sum:261590\npiexs_sum:262144\ndark_prop=dark_sum/piexs_sum:0.9978866577148438\nD:\\Computer Vision\\Datasets\\prostate_MR\\DL_Image\\DL_Image0003_0009.png is dark!\ndark_sum:261061\npiexs_sum:262144\ndark_prop=dark_sum/piexs_sum:0.9958686828613281\nD:\\Computer Vision\\Datasets\\prostate_MR\\DL_Image\\DL_Image0003_0010.png is dark!\ndark_sum:261794\npiexs_sum:262144\ndark_prop=dark_sum/piexs_sum:0.9986648559570312\nD:\\Computer Vision\\Datasets\\prostate_MR\\DL_Image\\DL_Image0003_0011.png is dark!\ndark_sum:261622\npiexs_sum:262144\ndark_prop=dark_sum/piexs_sum:0.9980087280273438\nD:\\Computer Vision\\Datasets\\prostate_MR\\DL_Image\\DL_Image0003_0012.png is dark!\ndark_sum:261315\npiexs_sum:262144\ndark_prop=dark_sum/piexs_sum:0.9968376159667969\nD:\\Computer Vision\\Datasets\\prostate_MR\\DL_Image\\DL_Image0003_0013.png is dark!\ndark_sum:261780\npiexs_sum:262144\ndark_prop=dark_sum/piexs_sum:0.9986114501953125\nD:\\Computer Vision\\Datasets\\prostate_MR\\DL_Image\\DL_Image0003_0014.png is dark!\ndark_sum:261862\npiexs_sum:262144\ndark_prop=dark_sum/piexs_sum:0.9989242553710938\nD:\\Computer Vision\\Datasets\\prostate_MR\\DL_Image\\DL_Image0003_0015.png is dark!\ndark_sum:261781\npiexs_sum:262144\ndark_prop=dark_sum/piexs_sum:0.9986152648925781\nD:\\Computer Vision\\Datasets\\prostate_MR\\DL_Image\\DL_Image0003_0016.png is dark!\ndark_sum:261695\npiexs_sum:262144\ndark_prop=dark_sum/piexs_sum:0.9982872009277344\nD:\\Computer Vision\\Datasets\\prostate_MR\\DL_Image\\DL_Image0003_0017.png is dark!\ndark_sum:261628\npiexs_sum:262144\ndark_prop=dark_sum/piexs_sum:0.9980316162109375\nD:\\Computer Vision\\Datasets\\prostate_MR\\DL_Image\\DL_Image0003_0018.png is dark!\ndark_sum:261527\npiexs_sum:262144\ndark_prop=dark_sum/piexs_sum:0.9976463317871094\nD:\\Computer Vision\\Datasets\\prostate_MR\\DL_Image\\DL_Image0003_0019.png is dark!\ndark_sum:261646\npiexs_sum:262144\ndark_prop=dark_sum/piexs_sum:0.9981002807617188\nD:\\Computer Vision\\Datasets\\prostate_MR\\DL_Image\\DL_Image0003_0020.png is dark!\ndark_sum:261791\npiexs_sum:262144\ndark_prop=dark_sum/piexs_sum:0.9986534118652344\nD:\\Computer Vision\\Datasets\\prostate_MR\\DL_Image\\DL_Image0003_0021.png is dark!\ndark_sum:261772\npiexs_sum:262144\ndark_prop=dark_sum/piexs_sum:0.9985809326171875\nD:\\Computer Vision\\Datasets\\prostate_MR\\DL_Image\\DL_Image0003_0022.png is dark!\ndark_sum:261774\npiexs_sum:262144\ndark_prop=dark_sum/piexs_sum:0.9985885620117188\nD:\\Computer Vision\\Datasets\\prostate_MR\\DL_Image\\DL_Image0003_0023.png is dark!\ndark_sum:261793\npiexs_sum:262144\ndark_prop=dark_sum/piexs_sum:0.9986610412597656\nD:\\Computer Vision\\Datasets\\prostate_MR\\DL_Image\\DL_Image0003_0024.png is dark!\ndark_sum:261806\npiexs_sum:262144\ndark_prop=dark_sum/piexs_sum:0.9987106323242188\nD:\\Computer Vision\\Datasets\\prostate_MR\\DL_Image\\DL_Image0003_0025.png is dark!\ndark_sum:261863\npiexs_sum:262144\ndark_prop=dark_sum/piexs_sum:0.9989280700683594\nD:\\Computer Vision\\Datasets\\prostate_MR\\DL_Image\\DL_Image0003_0026.png is dark!\ndark_sum:261875\npiexs_sum:262144\ndark_prop=dark_sum/piexs_sum:0.9989738464355469\nD:\\Computer Vision\\Datasets\\prostate_MR\\DL_Image\\DL_Image0003_0027.png is dark!\ndark_sum:261727\npiexs_sum:262144\ndark_prop=dark_sum/piexs_sum:0.9984092712402344\nD:\\Computer Vision\\Datasets\\prostate_MR\\DL_Image\\DL_Image0003_0028.png is dark!\ndark_sum:261640\npiexs_sum:262144\ndark_prop=dark_sum/piexs_sum:0.998077392578125\nD:\\Computer Vision\\Datasets\\prostate_MR\\DL_Image\\DL_Image0003_0029.png is dark!\ndark_sum:261720\npiexs_sum:262144\ndark_prop=dark_sum/piexs_sum:0.998382568359375\nD:\\Computer Vision\\Datasets\\prostate_MR\\DL_Image\\DL_Image0003_0030.png is dark!\ndark_sum:261721\npiexs_sum:262144\ndark_prop=dark_sum/piexs_sum:0.9983863830566406\nD:\\Computer Vision\\Datasets\\prostate_MR\\DL_Image\\DL_Image0003_0031.png is dark!\ndark_sum:261791\npiexs_sum:262144\ndark_prop=dark_sum/piexs_sum:0.9986534118652344\nD:\\Computer Vision\\Datasets\\prostate_MR\\DL_Image\\DL_Image0003_0032.png is dark!\ndark_sum:261813\npiexs_sum:262144\ndark_prop=dark_sum/piexs_sum:0.9987373352050781\nD:\\Computer Vision\\Datasets\\prostate_MR\\DL_Image\\DL_Image0003_0033.png is dark!\ndark_sum:261782\npiexs_sum:262144\ndark_prop=dark_sum/piexs_sum:0.9986190795898438\nD:\\Computer Vision\\Datasets\\prostate_MR\\DL_Image\\DL_Image0003_0034.png is dark!\ndark_sum:259784\npiexs_sum:262144\ndark_prop=dark_sum/piexs_sum:0.990997314453125\nD:\\Computer Vision\\Datasets\\prostate_MR\\DL_Image\\DL_Image0003_0035.png is dark!\ndark_sum:260502\npiexs_sum:262144\ndark_prop=dark_sum/piexs_sum:0.9937362670898438\nD:\\Computer Vision\\Datasets\\prostate_MR\\DL_Image\\DL_Image0003_0036.png is dark!\ndark_sum:260998\npiexs_sum:262144\ndark_prop=dark_sum/piexs_sum:0.9956283569335938\nD:\\Computer Vision\\Datasets\\prostate_MR\\DL_Image\\DL_Image0003_0037.png is dark!\ndark_sum:261388\npiexs_sum:262144\ndark_prop=dark_sum/piexs_sum:0.9971160888671875\nD:\\Computer Vision\\Datasets\\prostate_MR\\DL_Image\\DL_Image0003_0038.png is dark!\ndark_sum:261112\npiexs_sum:262144\ndark_prop=dark_sum/piexs_sum:0.996063232421875\nD:\\Computer Vision\\Datasets\\prostate_MR\\DL_Image\\DL_Image0003_0039.png is dark!\ndark_sum:259750\npiexs_sum:262144\ndark_prop=dark_sum/piexs_sum:0.9908676147460938\nD:\\Computer Vision\\Datasets\\prostate_MR\\DL_Image\\DL_Image0003_0040.png is dark!\ndark_sum:259875\npiexs_sum:262144\ndark_prop=dark_sum/piexs_sum:0.9913444519042969\nD:\\Computer Vision\\Datasets\\prostate_MR\\DL_Image\\DL_Image0003_0041.png is dark!\ndark_sum:260870\npiexs_sum:262144\ndark_prop=dark_sum/piexs_sum:0.9951400756835938\nD:\\Computer Vision\\Datasets\\prostate_MR\\DL_Image\\DL_Image0003_0042.png is dark!\ndark_sum:259802\npiexs_sum:262144\ndark_prop=dark_sum/piexs_sum:0.9910659790039062\nD:\\Computer Vision\\Datasets\\prostate_MR\\DL_Image\\DL_Image0003_0043.png is dark!\ndark_sum:258239\npiexs_sum:262144\ndark_prop=dark_sum/piexs_sum:0.9851036071777344\nD:\\Computer Vision\\Datasets\\prostate_MR\\DL_Image\\DL_Image0003_0044.png is dark!\ndark_sum:261449\npiexs_sum:262144\ndark_prop=dark_sum/piexs_sum:0.9973487854003906\nD:\\Computer Vision\\Datasets\\prostate_MR\\DL_Image\\DL_Image0003_0045.png is dark!\ndark_sum:260879\npiexs_sum:262144\ndark_prop=dark_sum/piexs_sum:0.9951744079589844\nD:\\Computer Vision\\Datasets\\prostate_MR\\DL_Image\\DL_Image0003_0046.png is dark!\ndark_sum:261216\npiexs_sum:262144\ndark_prop=dark_sum/piexs_sum:0.9964599609375\nD:\\Computer Vision\\Datasets\\prostate_MR\\DL_Image\\DL_Image0003_0047.png is dark!\ndark_sum:261629\npiexs_sum:262144\ndark_prop=dark_sum/piexs_sum:0.9980354309082031\nD:\\Computer Vision\\Datasets\\prostate_MR\\DL_Image\\DL_Image0003_0048.png is dark!\ndark_sum:260354\npiexs_sum:262144\ndark_prop=dark_sum/piexs_sum:0.9931716918945312\nD:\\Computer Vision\\Datasets\\prostate_MR\\DL_Image\\DL_Image0003_0049.png is dark!\ndark_sum:259033\npiexs_sum:262144\ndark_prop=dark_sum/piexs_sum:0.9881324768066406\nD:\\Computer Vision\\Datasets\\prostate_MR\\DL_Image\\DL_Image0003_0050.png is dark!\ndark_sum:260674\npiexs_sum:262144\ndark_prop=dark_sum/piexs_sum:0.9943923950195312\nD:\\Computer Vision\\Datasets\\prostate_MR\\DL_Image\\DL_Image0003_0051.png is dark!\ndark_sum:258631\npiexs_sum:262144\ndark_prop=dark_sum/piexs_sum:0.9865989685058594\nD:\\Computer Vision\\Datasets\\prostate_MR\\DL_Image\\DL_Image0003_0052.png is dark!\ndark_sum:255094\npiexs_sum:262144\ndark_prop=dark_sum/piexs_sum:0.9731063842773438\nD:\\Computer Vision\\Datasets\\prostate_MR\\DL_Image\\DL_Image0003_0053.png is dark!\ndark_sum:253278\npiexs_sum:262144\ndark_prop=dark_sum/piexs_sum:0.9661788940429688\nD:\\Computer Vision\\Datasets\\prostate_MR\\DL_Image\\DL_Image0003_0054.png is dark!\ndark_sum:261995\npiexs_sum:262144\ndark_prop=dark_sum/piexs_sum:0.9994316101074219\nD:\\Computer Vision\\Datasets\\prostate_MR\\DL_Image\\DL_Image0004_0001.png is dark!\ndark_sum:261223\npiexs_sum:262144\ndark_prop=dark_sum/piexs_sum:0.9964866638183594\nD:\\Computer Vision\\Datasets\\prostate_MR\\DL_Image\\DL_Image0004_0002.png is dark!\ndark_sum:261932\npiexs_sum:262144\ndark_prop=dark_sum/piexs_sum:0.9991912841796875\nD:\\Computer Vision\\Datasets\\prostate_MR\\DL_Image\\DL_Image0004_0003.png is dark!\ndark_sum:261409\npiexs_sum:262144\ndark_prop=dark_sum/piexs_sum:0.9971961975097656\nD:\\Computer Vision\\Datasets\\prostate_MR\\DL_Image\\DL_Image0004_0004.png is dark!\ndark_sum:261292\npiexs_sum:262144\ndark_prop=dark_sum/piexs_sum:0.9967498779296875\nD:\\Computer Vision\\Datasets\\prostate_MR\\DL_Image\\DL_Image0004_0005.png is dark!\ndark_sum:261569\npiexs_sum:262144\ndark_prop=dark_sum/piexs_sum:0.9978065490722656\nD:\\Computer Vision\\Datasets\\prostate_MR\\DL_Image\\DL_Image0004_0006.png is dark!\ndark_sum:261717\npiexs_sum:262144\ndark_prop=dark_sum/piexs_sum:0.9983711242675781\nD:\\Computer Vision\\Datasets\\prostate_MR\\DL_Image\\DL_Image0004_0007.png is dark!\ndark_sum:261613\npiexs_sum:262144\ndark_prop=dark_sum/piexs_sum:0.9979743957519531\nD:\\Computer Vision\\Datasets\\prostate_MR\\DL_Image\\DL_Image0004_0008.png is dark!\ndark_sum:261817\npiexs_sum:262144\ndark_prop=dark_sum/piexs_sum:0.9987525939941406\nD:\\Computer Vision\\Datasets\\prostate_MR\\DL_Image\\DL_Image0004_0009.png is dark!\ndark_sum:261830\npiexs_sum:262144\ndark_prop=dark_sum/piexs_sum:0.9988021850585938\nD:\\Computer Vision\\Datasets\\prostate_MR\\DL_Image\\DL_Image0004_0010.png is dark!\ndark_sum:261779\npiexs_sum:262144\ndark_prop=dark_sum/piexs_sum:0.9986076354980469\nD:\\Computer Vision\\Datasets\\prostate_MR\\DL_Image\\DL_Image0004_0011.png is dark!\ndark_sum:261902\npiexs_sum:262144\ndark_prop=dark_sum/piexs_sum:0.9990768432617188\nD:\\Computer Vision\\Datasets\\prostate_MR\\DL_Image\\DL_Image0004_0012.png is dark!\ndark_sum:261854\npiexs_sum:262144\ndark_prop=dark_sum/piexs_sum:0.9988937377929688\nD:\\Computer Vision\\Datasets\\prostate_MR\\DL_Image\\DL_Image0004_0013.png is dark!\ndark_sum:261663\npiexs_sum:262144\ndark_prop=dark_sum/piexs_sum:0.9981651306152344\nD:\\Computer Vision\\Datasets\\prostate_MR\\DL_Image\\DL_Image0004_0014.png is dark!\ndark_sum:261577\npiexs_sum:262144\ndark_prop=dark_sum/piexs_sum:0.9978370666503906\nD:\\Computer Vision\\Datasets\\prostate_MR\\DL_Image\\DL_Image0004_0015.png is dark!\ndark_sum:260641\npiexs_sum:262144\ndark_prop=dark_sum/piexs_sum:0.9942665100097656\nD:\\Computer Vision\\Datasets\\prostate_MR\\DL_Image\\DL_Image0004_0016.png is dark!\ndark_sum:260766\npiexs_sum:262144\ndark_prop=dark_sum/piexs_sum:0.9947433471679688\nD:\\Computer Vision\\Datasets\\prostate_MR\\DL_Image\\DL_Image0004_0017.png is dark!\ndark_sum:261598\npiexs_sum:262144\ndark_prop=dark_sum/piexs_sum:0.9979171752929688\nD:\\Computer Vision\\Datasets\\prostate_MR\\DL_Image\\DL_Image0004_0018.png is dark!\ndark_sum:261463\npiexs_sum:262144\ndark_prop=dark_sum/piexs_sum:0.9974021911621094\nD:\\Computer Vision\\Datasets\\prostate_MR\\DL_Image\\DL_Image0004_0019.png is dark!\ndark_sum:261828\npiexs_sum:262144\ndark_prop=dark_sum/piexs_sum:0.9987945556640625\nD:\\Computer Vision\\Datasets\\prostate_MR\\DL_Image\\DL_Image0004_0020.png is dark!\ndark_sum:261980\npiexs_sum:262144\ndark_prop=dark_sum/piexs_sum:0.9993743896484375\nD:\\Computer Vision\\Datasets\\prostate_MR\\DL_Image\\DL_Image0004_0021.png is dark!\ndark_sum:261699\npiexs_sum:262144\ndark_prop=dark_sum/piexs_sum:0.9983024597167969\nD:\\Computer Vision\\Datasets\\prostate_MR\\DL_Image\\DL_Image0004_0022.png is dark!\ndark_sum:261594\npiexs_sum:262144\ndark_prop=dark_sum/piexs_sum:0.9979019165039062\nD:\\Computer Vision\\Datasets\\prostate_MR\\DL_Image\\DL_Image0004_0023.png is dark!\ndark_sum:262038\npiexs_sum:262144\ndark_prop=dark_sum/piexs_sum:0.9995956420898438\nD:\\Computer Vision\\Datasets\\prostate_MR\\DL_Image\\DL_Image0004_0024.png is dark!\ndark_sum:262067\npiexs_sum:262144\ndark_prop=dark_sum/piexs_sum:0.9997062683105469\nD:\\Computer Vision\\Datasets\\prostate_MR\\DL_Image\\DL_Image0004_0025.png is dark!\ndark_sum:261884\npiexs_sum:262144\ndark_prop=dark_sum/piexs_sum:0.9990081787109375\nD:\\Computer Vision\\Datasets\\prostate_MR\\DL_Image\\DL_Image0004_0026.png is dark!\ndark_sum:262004\npiexs_sum:262144\ndark_prop=dark_sum/piexs_sum:0.9994659423828125\nD:\\Computer Vision\\Datasets\\prostate_MR\\DL_Image\\DL_Image0004_0027.png is dark!\ndark_sum:261936\npiexs_sum:262144\ndark_prop=dark_sum/piexs_sum:0.99920654296875\nD:\\Computer Vision\\Datasets\\prostate_MR\\DL_Image\\DL_Image0004_0028.png is dark!\ndark_sum:261380\npiexs_sum:262144\ndark_prop=dark_sum/piexs_sum:0.9970855712890625\nD:\\Computer Vision\\Datasets\\prostate_MR\\DL_Image\\DL_Image0004_0029.png is dark!\ndark_sum:261424\npiexs_sum:262144\ndark_prop=dark_sum/piexs_sum:0.99725341796875\nD:\\Computer Vision\\Datasets\\prostate_MR\\DL_Image\\DL_Image0004_0030.png is dark!\n"
    },
    {
     "output_type": "error",
     "ename": "KeyboardInterrupt",
     "evalue": "",
     "traceback": [
      "\u001b[1;31m---------------------------------------------------------------------------\u001b[0m",
      "\u001b[1;31mKeyboardInterrupt\u001b[0m                         Traceback (most recent call last)",
      "\u001b[1;32m<ipython-input-22-844219124c06>\u001b[0m in \u001b[0;36m<module>\u001b[1;34m\u001b[0m\n\u001b[0;32m     97\u001b[0m     \u001b[0mpics_path\u001b[0m \u001b[1;33m=\u001b[0m \u001b[1;34mr\"D:\\Computer Vision\\Datasets\\prostate_MR\\DL_Image\"\u001b[0m\u001b[1;33m;\u001b[0m\u001b[1;31m#获取所给图片目录\u001b[0m\u001b[1;33m\u001b[0m\u001b[1;33m\u001b[0m\u001b[0m\n\u001b[0;32m     98\u001b[0m     \u001b[0mcreateDarkDir\u001b[0m\u001b[1;33m(\u001b[0m\u001b[1;33m)\u001b[0m\u001b[1;33m;\u001b[0m\u001b[1;33m\u001b[0m\u001b[1;33m\u001b[0m\u001b[0m\n\u001b[1;32m---> 99\u001b[1;33m     \u001b[0mallPics\u001b[0m\u001b[1;33m=\u001b[0m\u001b[0mreadAllPictures\u001b[0m\u001b[1;33m(\u001b[0m\u001b[0mpics_path\u001b[0m\u001b[1;33m)\u001b[0m\u001b[1;33m;\u001b[0m\u001b[1;33m\u001b[0m\u001b[1;33m\u001b[0m\u001b[0m\n\u001b[0m",
      "\u001b[1;32m<ipython-input-22-844219124c06>\u001b[0m in \u001b[0;36mreadAllPictures\u001b[1;34m(pics_path)\u001b[0m\n\u001b[0;32m     80\u001b[0m             \u001b[0mallPics\u001b[0m\u001b[1;33m.\u001b[0m\u001b[0mappend\u001b[0m\u001b[1;33m(\u001b[0m\u001b[0mpic_path\u001b[0m\u001b[1;33m)\u001b[0m\u001b[1;33m;\u001b[0m\u001b[1;33m\u001b[0m\u001b[1;33m\u001b[0m\u001b[0m\n\u001b[0;32m     81\u001b[0m             \u001b[0mimg\u001b[0m\u001b[1;33m=\u001b[0m\u001b[0mcv2\u001b[0m\u001b[1;33m.\u001b[0m\u001b[0mimread\u001b[0m\u001b[1;33m(\u001b[0m\u001b[0mpic_path\u001b[0m\u001b[1;33m)\u001b[0m\u001b[1;33m;\u001b[0m\u001b[1;33m\u001b[0m\u001b[1;33m\u001b[0m\u001b[0m\n\u001b[1;32m---> 82\u001b[1;33m             \u001b[0mfunc\u001b[0m\u001b[1;33m(\u001b[0m\u001b[0mimg\u001b[0m\u001b[1;33m,\u001b[0m\u001b[0mpic_path\u001b[0m\u001b[1;33m,\u001b[0m\u001b[0mpic\u001b[0m\u001b[1;33m)\u001b[0m\u001b[1;33m;\u001b[0m\u001b[1;33m\u001b[0m\u001b[1;33m\u001b[0m\u001b[0m\n\u001b[0m\u001b[0;32m     83\u001b[0m     \u001b[1;32mreturn\u001b[0m \u001b[0mallPics\u001b[0m\u001b[1;33m;\u001b[0m\u001b[1;33m\u001b[0m\u001b[1;33m\u001b[0m\u001b[0m\n\u001b[0;32m     84\u001b[0m \u001b[1;33m\u001b[0m\u001b[0m\n",
      "\u001b[1;32m<ipython-input-22-844219124c06>\u001b[0m in \u001b[0;36mfunc\u001b[1;34m(img, pic_path, pic)\u001b[0m\n\u001b[0;32m     21\u001b[0m         \u001b[1;32mfor\u001b[0m \u001b[0mcolum\u001b[0m \u001b[1;32min\u001b[0m \u001b[0mrow\u001b[0m\u001b[1;33m:\u001b[0m\u001b[1;33m\u001b[0m\u001b[1;33m\u001b[0m\u001b[0m\n\u001b[0;32m     22\u001b[0m             \u001b[1;32mif\u001b[0m \u001b[0mcolum\u001b[0m\u001b[1;33m<\u001b[0m\u001b[1;36m80\u001b[0m\u001b[1;33m:\u001b[0m \u001b[1;31m#人为设置的超参数,表示0~39的灰度值为暗\u001b[0m\u001b[1;33m\u001b[0m\u001b[1;33m\u001b[0m\u001b[0m\n\u001b[1;32m---> 23\u001b[1;33m                 \u001b[0mdark_sum\u001b[0m\u001b[1;33m+=\u001b[0m\u001b[1;36m1\u001b[0m\u001b[1;33m;\u001b[0m\u001b[1;33m\u001b[0m\u001b[1;33m\u001b[0m\u001b[0m\n\u001b[0m\u001b[0;32m     24\u001b[0m     \u001b[0mdark_prop\u001b[0m\u001b[1;33m=\u001b[0m\u001b[0mdark_sum\u001b[0m\u001b[1;33m/\u001b[0m\u001b[1;33m(\u001b[0m\u001b[0mpiexs_sum\u001b[0m\u001b[1;33m)\u001b[0m\u001b[1;33m;\u001b[0m\u001b[1;33m\u001b[0m\u001b[1;33m\u001b[0m\u001b[0m\n\u001b[0;32m     25\u001b[0m     \u001b[0mprint\u001b[0m\u001b[1;33m(\u001b[0m\u001b[1;34m\"dark_sum:\"\u001b[0m\u001b[1;33m+\u001b[0m\u001b[0mstr\u001b[0m\u001b[1;33m(\u001b[0m\u001b[0mdark_sum\u001b[0m\u001b[1;33m)\u001b[0m\u001b[1;33m)\u001b[0m\u001b[1;33m;\u001b[0m\u001b[1;33m\u001b[0m\u001b[1;33m\u001b[0m\u001b[0m\n",
      "\u001b[1;31mKeyboardInterrupt\u001b[0m: "
     ]
    }
   ],
   "source": [
    "import cv2;\n",
    "import numpy as np;\n",
    "import matplotlib.pyplot as plt;\n",
    "import os;\n",
    "import sys;\n",
    "\n",
    "IMG_BIT_DEPTH = 2**8\n",
    "  \n",
    "def func(img,pic_path,pic):\n",
    "    #把图片转换为灰度图\n",
    "    gray_img = cv2.cvtColor(img,cv2.COLOR_BGR2GRAY);\n",
    "    # gray_img = img\n",
    "    #获取灰度图矩阵的行数和列数\n",
    "    r,c = gray_img.shape[:2];\n",
    "    dark_sum=0; #偏暗的像素 初始化为0个\n",
    "    dark_prop=0;    #偏暗像素所占比例初始化为0\n",
    "    piexs_sum=r*c;  #整个弧度图的像素个数为r*c\n",
    "     \n",
    "    #遍历灰度图的所有像素\n",
    "    for row in gray_img:\n",
    "        for colum in row:\n",
    "            if colum<80: #人为设置的超参数,表示0~39的灰度值为暗\n",
    "                dark_sum+=1;\n",
    "    dark_prop=dark_sum/(piexs_sum); \n",
    "    print(\"dark_sum:\"+str(dark_sum));\n",
    "    print(\"piexs_sum:\"+str(piexs_sum));\n",
    "    print(\"dark_prop=dark_sum/piexs_sum:\"+str(dark_prop));\n",
    "    if dark_prop >=0.80: #人为设置的超参数:表示若偏暗像素所占比例超过0.78,则这张图被认为整体环境黑暗的图片\n",
    "        print(pic_path+\" is dark!\");\n",
    "        max_num = np.max(img)\n",
    "        max_time = 255.0/float(max_num)\n",
    "        max_time_3 = max_time * 3\n",
    "        max_time_6 = max_time * 6\n",
    "        max_time_10 = max_time * 10\n",
    "        res = np.uint8(np.clip((max_time * img + 10), 0, 255))\n",
    "        res_3 = np.uint8(np.clip((max_time_3 * img + 10), 0, 255))\n",
    "        res_6 = np.uint8(np.clip((max_time_6 * img + 10), 0, 255))\n",
    "        res_10 = np.uint8(np.clip((max_time_10 * img + 10), 0, 255))\n",
    "        \n",
    "        tmp = np.hstack((img, res, res_3, res_6, res_10))  # 两张图片横向合并（便于对比显示）\n",
    "        # for xi in range(0,r):\n",
    "        #     for xj in range(0,c):\n",
    "        #         ##set the pixel value increase to 1020% \n",
    "        #         img[xj,xi,0] = int(img[xj,xi,0]*10) if int(img[xj,xi,0]*10) < IMG_BIT_DEPTH else IMG_BIT_DEPTH\n",
    "        #         img[xj,xi,1] = int(img[xj,xi,1]*10) if int(img[xj,xi,1]*10) < IMG_BIT_DEPTH else IMG_BIT_DEPTH\n",
    "        #         img[xj,xi,2] = int(img[xj,xi,2]*10) if int(img[xj,xi,2]*10) < IMG_BIT_DEPTH else IMG_BIT_DEPTH\n",
    "        #         # img[xj,xi,0] = int(img[xj,xi,0]*10)\n",
    "        #         # img[xj,xi,1] = int(img[xj,xi,1]*10) \n",
    "        #         # img[xj,xi,2] = int(img[xj,xi,2]*10)\n",
    "        \n",
    "        cv2.imwrite(\"../DarkPicDir/\"+pic,tmp);#把被认为黑暗的图片保存\n",
    "    else:\n",
    "        print(pic_path+\" is bright!\")\n",
    "        cv2.imwrite(\"../DarkPicDir/\"+pic,img);\n",
    "    #hist(pic_path); #若要查看图片的灰度值分布情况,可以这个注释解除\n",
    "  \n",
    "#用于显示图片的灰度直方图\n",
    "def hist(pic_path):\n",
    "    img=cv2.imread(pic_path,0);\n",
    "    hist = cv2.calcHist([img],[0],None,[256],[0,256])\n",
    "    plt.subplot(121)\n",
    "    plt.imshow(img,'gray')\n",
    "    plt.xticks([])\n",
    "    plt.yticks([])\n",
    "    plt.title(\"Original\")\n",
    "    plt.subplot(122)\n",
    "    plt.hist(img.ravel(),256,[0,256])\n",
    "    plt.show()\n",
    "     \n",
    "#读取给定目录的所有图片\n",
    "def readAllPictures(pics_path):\n",
    "    if not os.path.exists(pics_path):\n",
    "        print(\"路径错误，路径不存在！\")\n",
    "        return;\n",
    "    allPics = [];\n",
    "    pics = os.listdir(pics_path);\n",
    "    for pic in pics:\n",
    "        pic_path = os.path.join(pics_path,pic);\n",
    "        if os.path.isfile(pic_path):\n",
    "            allPics.append(pic_path);\n",
    "            img=cv2.imread(pic_path);\n",
    "            func(img,pic_path,pic);\n",
    "    return allPics;\n",
    "  \n",
    "#创建用于存放黑暗图片的目录\n",
    "def createDarkDir():\n",
    "    DarkDirPath = \"../DarkPicDir\";\n",
    "    isExists = os.path.exists(DarkDirPath);\n",
    "    if not isExists:\n",
    "        os.makedirs(DarkDirPath);\n",
    "        print(\"dark pics dir is created successfully!\");\n",
    "        return True;\n",
    "    else:\n",
    "        return False;\n",
    "  \n",
    "if __name__ =='__main__':\n",
    "    pics_path = r\"D:\\Computer Vision\\Datasets\\prostate_MR\\DL_Image\";#获取所给图片目录\n",
    "    createDarkDir();\n",
    "    allPics=readAllPictures(pics_path);"
   ]
  },
  {
   "cell_type": "code",
   "execution_count": null,
   "metadata": {},
   "outputs": [],
   "source": []
  },
  {
   "cell_type": "code",
   "execution_count": null,
   "metadata": {},
   "outputs": [],
   "source": []
  }
 ]
}